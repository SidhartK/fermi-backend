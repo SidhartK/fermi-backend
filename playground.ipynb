{
 "cells": [
  {
   "cell_type": "code",
   "execution_count": 1,
   "metadata": {},
   "outputs": [],
   "source": [
    "from fermi import SamplePredictor\n",
    "\n",
    "model = SamplePredictor(model_name='gpt-4', temperature=0.0)"
   ]
  },
  {
   "cell_type": "code",
   "execution_count": 6,
   "metadata": {},
   "outputs": [],
   "source": [
    "def run(question, units, restrict_to=3):\n",
    "    if restrict_to is not None:\n",
    "        noctxt, _, _ = model.ask(question=question + f\" Estimate this quantity by using at most {restrict_to} sub-questions.\", units=units)\n",
    "    else:\n",
    "        noctxt, _, _ = model.ask(question=question, units=units)\n",
    "    return noctxt[\"pred\"]\n",
    "\n"
   ]
  },
  {
   "cell_type": "code",
   "execution_count": 9,
   "metadata": {},
   "outputs": [
    {
     "name": "stdout",
     "output_type": "stream",
     "text": [
      "8400000.0\n",
      "\n",
      "\n",
      "# Q0: How many tennis balls are there in New York City?\n",
      "# R0: This is the main question we want to answer.\n",
      "# Q1: What is the population of New York City?\n",
      "# R1: If we know the population of New York City, we can compute the number of tennis balls in New York City by multiplying the population by the average number of tennis balls per person.\n",
      "# F1: The population of New York City is 8.4 million people.\n",
      "A1=8.4e+6 # (people)\n",
      "# Q2: What is the average number of tennis balls per person?\n",
      "# R2: If we know the average number of tennis balls per person, we can compute the number of tennis balls in New York City by multiplying the population of New York City by the average number of tennis balls per person.\n",
      "# F2: The average number of tennis balls per person is 1.\n",
      "A2=1.0e+0 # (tennis balls/person)\n",
      "# F0: The number of tennis balls in New York City is the population of New York City multiplied by the average number of tennis balls per person.\n",
      "A0=A1*A2 # (tennis balls)\n"
     ]
    }
   ],
   "source": [
    "prediction = run(\"How many tennis balls are there in New York City?\", \"tennis balls\")\n",
    "print(str(prediction[\"compiled_answer\"]) + \"\\n\\n\")\n",
    "print(prediction[\"program\"])\n"
   ]
  },
  {
   "cell_type": "code",
   "execution_count": 11,
   "metadata": {},
   "outputs": [
    {
     "name": "stdout",
     "output_type": "stream",
     "text": [
      "0.1282051282051282\n",
      "\n",
      "\n",
      "# Q0: What is the average number of tennis balls per person?\n",
      "# R0: This is the main question we want to answer.\n",
      "# Q1: What is the total number of tennis balls?\n",
      "# R1: If we know the total number of tennis balls and the total number of people, we can compute the average number of tennis balls per person by dividing the total number of tennis balls by the total number of people.\n",
      "# F1: The total number of tennis balls is 1 billion.\n",
      "A1=1e+9 # (tennis balls)\n",
      "# Q2: What is the total number of people?\n",
      "# R2: If we know the total number of tennis balls and the total number of people, we can compute the average number of tennis balls per person by dividing the total number of tennis balls by the total number of people.\n",
      "# F2: The total number of people is 7.8 billion.\n",
      "A2=7.8e+9 # (people)\n",
      "# F0: The average number of tennis balls per person is the total number of tennis balls divided by the total number of people.\n",
      "A0=A1/A2 # (tennis balls)\n"
     ]
    }
   ],
   "source": [
    "prediction = run(\"What is the average number of tennis balls per person?\", \"tennis balls\", restrict_to=2)\n",
    "print(str(prediction[\"compiled_answer\"]) + \"\\n\\n\")\n",
    "print(prediction[\"program\"])"
   ]
  },
  {
   "cell_type": "code",
   "execution_count": 12,
   "metadata": {},
   "outputs": [
    {
     "name": "stdout",
     "output_type": "stream",
     "text": [
      "30000000000.0\n",
      "\n",
      "\n",
      "# Q0: What is the total number of tennis balls?\n",
      "# R0: This is the main question we want to answer.\n",
      "# Q1: How many tennis balls are produced each year?\n",
      "# R1: If we know how many tennis balls are produced each year and how long tennis balls have been produced, we can compute the total number of tennis balls by multiplying these two quantities.\n",
      "# F1: Approximately 300 million tennis balls are produced each year.\n",
      "A1=3e+8 # (tennis balls/year)\n",
      "# Q2: For how many years have tennis balls been produced?\n",
      "# R2: If we know how many tennis balls are produced each year and how long tennis balls have been produced, we can compute the total number of tennis balls by multiplying these two quantities.\n",
      "# F2: Tennis balls have been produced for about 100 years.\n",
      "A2=1e+2 # (years)\n",
      "# F0: The total number of tennis balls is the number of tennis balls produced each year multiplied by the number of years tennis balls have been produced.\n",
      "A0=A1*A2 # (tennis balls)\n"
     ]
    }
   ],
   "source": [
    "prediction = run(\"What is the total number of tennis balls?\", \"tennis balls\", restrict_to=2)\n",
    "print(str(prediction[\"compiled_answer\"]) + \"\\n\\n\")\n",
    "print(prediction[\"program\"])"
   ]
  },
  {
   "cell_type": "code",
   "execution_count": 13,
   "metadata": {},
   "outputs": [
    {
     "name": "stdout",
     "output_type": "stream",
     "text": [
      "149\n",
      "\n",
      "\n",
      "# Q0: For how many years have tennis balls been produced?\n",
      "# R0: This is the main question we want to answer.\n",
      "# Q1: When was the modern game of tennis invented?\n",
      "# R1: The modern game of tennis is when tennis balls started to be produced.\n",
      "# F1: The modern game of tennis was invented in 1873.\n",
      "A1=1873 # (years)\n",
      "# Q2: What is the current year?\n",
      "# R2: To compute the number of years that tennis balls have been produced, we need to know the current year because we can subtract the year that the modern game of tennis was invented from the current year to get the number of years that tennis balls have been produced.\n",
      "# F2: The current year is 2022.\n",
      "A2=2022 # (years)\n",
      "# F0: The number of years that tennis balls have been produced is the current year minus the year that the modern game of tennis was invented.\n",
      "A0=A2-A1 # (years)\n"
     ]
    }
   ],
   "source": [
    "prediction = run(\"For how many years have tennis balls been produced?\", \"years\", restrict_to=2)\n",
    "print(str(prediction[\"compiled_answer\"]) + \"\\n\\n\")\n",
    "print(prediction[\"program\"])"
   ]
  },
  {
   "cell_type": "code",
   "execution_count": 14,
   "metadata": {},
   "outputs": [
    {
     "data": {
      "text/plain": [
       "0.0014051669810502187"
      ]
     },
     "execution_count": 14,
     "metadata": {},
     "output_type": "execute_result"
    }
   ],
   "source": [
    "program = \"\"\"\n",
    "# Q0: How much would the sea level rise if all the ice melted?\n",
    "# R0: This is the main question we want to answer.\n",
    "# Q1: What is the volume of water that will be added to the ocean?\n",
    "# R1: If we know the volume of water that will be added to the ocean, we can compute the sea level rise by dividing the volume of water by the surface area of the ocean.\n",
    "# Q2: What is the volume of ice on Earth that is on land?\n",
    "# R2: The volume of water that will be added to the ocean is the same as the volume of ice on Earth that is on land since that ice will melt and flow into the ocean.\n",
    "# Q3: What is the volume of ice in Antarctica?\n",
    "# R3: The majority of the ice on land is in Antarctica so it is a good approximation to use the volume of ice in Antarctica as the volume of ice on Earth that is on land.\n",
    "# Q4: What is the thickness of the ice in Antarctica?\n",
    "# R4: To compute the volume of ice in Antarctica, we need to know the thickness of the ice because we can multiply that by its surface area to get its volume.\n",
    "# F4: The thickness of the ice in Antarctica is 4.8 km. We must convert this into mi by multiplying by 0.621371.\n",
    "A4=0.621371 * 4.8e+0 # (mi)\n",
    "# Q5: What is the surface area of Antarctica?\n",
    "# R5: To compute the volume of ice in Antarctica, we need to know the surface area of Antarctica because we can multiply that by its thickness to get its volume.\n",
    "# Q6: What fraction of the Earth's surface is Antarctica?\n",
    "# R6: To compute the surface area of Antarctica, we need to know what fraction of the Earth's surface is Antarctica because we can multiply that by the surface area of the Earth to get the surface area of Antarctica.\n",
    "# F6: Antarctica is 1/30th of the Earth's surface.\n",
    "A6=1/30 # (dimensionless)\n",
    "# Q7: What is the surface area of the Earth?\n",
    "# R7: To compute the surface area of Antarctica, we need to know the surface area of the Earth because we can multiply that by the fraction of the Earth's surface that is Antarctica to get the surface area of Antarctica.\n",
    "# F7: The surface area of the Earth is 1.97e+8 mi**2.\n",
    "A7=1.97e+8 # (mi**2)\n",
    "# F5: The surface area of Antarctica is the fraction of the Earth's surface that is Antarctica multiplied by the surface area of the Earth.\n",
    "A5=A6*A7 # (mi**2)\n",
    "# F3: The volume of ice in Antarctica is the surface area of Antarctica multiplied by the thickness of the ice in Antarctica.\n",
    "A3=A5*A4 # (mi**3)\n",
    "# F2: The volume of ice on Earth is approximated by the volume of ice in Antarctica.\n",
    "A2=A3 # (mi**3)\n",
    "# F1: The volume of water that will be added to the ocean is the same as the volume of ice on Earth.\n",
    "A1=A2 # (mi**3)\n",
    "# Q8: What is the surface area of the ocean?\n",
    "# R8: To compute the sea level rise, we need to know the surface area of the ocean because we can divide the volume of water that will be added to the ocean by the surface area of the ocean to get the sea level rise.\n",
    "# F8: The surface area of the ocean is 361 million km**2. We must convert this into mi**2 by multiplying by 0.386102.\n",
    "A8=0.386102 * 361e+8 # (mi**2)\n",
    "# F0: The sea level rise is the volume of water that will be added to the ocean divided by the surface area of the ocean.\n",
    "A0=A1/A8 # (mi)\n",
    "\"\"\"\n",
    "loc = {}\n",
    "exec(program, globals(), loc)\n",
    "loc[\"A0\"]"
   ]
  },
  {
   "cell_type": "code",
   "execution_count": null,
   "metadata": {},
   "outputs": [],
   "source": []
  }
 ],
 "metadata": {
  "kernelspec": {
   "display_name": ".venv",
   "language": "python",
   "name": "python3"
  },
  "language_info": {
   "codemirror_mode": {
    "name": "ipython",
    "version": 3
   },
   "file_extension": ".py",
   "mimetype": "text/x-python",
   "name": "python",
   "nbconvert_exporter": "python",
   "pygments_lexer": "ipython3",
   "version": "3.11.6"
  }
 },
 "nbformat": 4,
 "nbformat_minor": 2
}
